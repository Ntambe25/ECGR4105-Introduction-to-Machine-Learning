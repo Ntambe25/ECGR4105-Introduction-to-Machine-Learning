{
 "cells": [
  {
   "cell_type": "markdown",
   "id": "1a8a87e2",
   "metadata": {},
   "source": [
    "## ECGR 4105 - HomeWork 0 - Problem # 2\n",
    "\n",
    "The goal of this Problem # 1 is to develop a code to run Linear Regression with Gradient Descent Algorithm. One single training will be performed with all of the 3 explanatory variables (X1, X2, & X3). "
   ]
  },
  {
   "cell_type": "code",
   "execution_count": 144,
   "id": "859c84ce",
   "metadata": {},
   "outputs": [],
   "source": [
    "# Importing the necessary Libraries\n",
    "import numpy as np\n",
    "import pandas as pd\n",
    "import matplotlib.pyplot as plt"
   ]
  },
  {
   "cell_type": "code",
   "execution_count": 145,
   "id": "18da7d57",
   "metadata": {},
   "outputs": [],
   "source": [
    "# Importing Data File (D3.csv) as df (DataFrame)\n",
    "df = pd.read_csv(\"D3.csv\")"
   ]
  },
  {
   "cell_type": "code",
   "execution_count": 146,
   "id": "4997ed83",
   "metadata": {},
   "outputs": [
    {
     "data": {
      "text/html": [
       "<div>\n",
       "<style scoped>\n",
       "    .dataframe tbody tr th:only-of-type {\n",
       "        vertical-align: middle;\n",
       "    }\n",
       "\n",
       "    .dataframe tbody tr th {\n",
       "        vertical-align: top;\n",
       "    }\n",
       "\n",
       "    .dataframe thead th {\n",
       "        text-align: right;\n",
       "    }\n",
       "</style>\n",
       "<table border=\"1\" class=\"dataframe\">\n",
       "  <thead>\n",
       "    <tr style=\"text-align: right;\">\n",
       "      <th></th>\n",
       "      <th>X1</th>\n",
       "      <th>X2</th>\n",
       "      <th>X3</th>\n",
       "      <th>Y</th>\n",
       "    </tr>\n",
       "  </thead>\n",
       "  <tbody>\n",
       "    <tr>\n",
       "      <th>0</th>\n",
       "      <td>0.000000</td>\n",
       "      <td>3.440000</td>\n",
       "      <td>0.440000</td>\n",
       "      <td>4.387545</td>\n",
       "    </tr>\n",
       "    <tr>\n",
       "      <th>1</th>\n",
       "      <td>0.040404</td>\n",
       "      <td>0.134949</td>\n",
       "      <td>0.888485</td>\n",
       "      <td>2.679650</td>\n",
       "    </tr>\n",
       "    <tr>\n",
       "      <th>2</th>\n",
       "      <td>0.080808</td>\n",
       "      <td>0.829899</td>\n",
       "      <td>1.336970</td>\n",
       "      <td>2.968490</td>\n",
       "    </tr>\n",
       "    <tr>\n",
       "      <th>3</th>\n",
       "      <td>0.121212</td>\n",
       "      <td>1.524848</td>\n",
       "      <td>1.785455</td>\n",
       "      <td>3.254065</td>\n",
       "    </tr>\n",
       "    <tr>\n",
       "      <th>4</th>\n",
       "      <td>0.161616</td>\n",
       "      <td>2.219798</td>\n",
       "      <td>2.233939</td>\n",
       "      <td>3.536375</td>\n",
       "    </tr>\n",
       "    <tr>\n",
       "      <th>5</th>\n",
       "      <td>0.202020</td>\n",
       "      <td>2.914747</td>\n",
       "      <td>2.682424</td>\n",
       "      <td>3.815420</td>\n",
       "    </tr>\n",
       "    <tr>\n",
       "      <th>6</th>\n",
       "      <td>0.242424</td>\n",
       "      <td>3.609697</td>\n",
       "      <td>3.130909</td>\n",
       "      <td>4.091200</td>\n",
       "    </tr>\n",
       "    <tr>\n",
       "      <th>7</th>\n",
       "      <td>0.282828</td>\n",
       "      <td>0.304646</td>\n",
       "      <td>3.579394</td>\n",
       "      <td>2.363715</td>\n",
       "    </tr>\n",
       "    <tr>\n",
       "      <th>8</th>\n",
       "      <td>0.323232</td>\n",
       "      <td>0.999596</td>\n",
       "      <td>0.027879</td>\n",
       "      <td>3.832965</td>\n",
       "    </tr>\n",
       "    <tr>\n",
       "      <th>9</th>\n",
       "      <td>0.363636</td>\n",
       "      <td>1.694545</td>\n",
       "      <td>0.476364</td>\n",
       "      <td>4.098950</td>\n",
       "    </tr>\n",
       "  </tbody>\n",
       "</table>\n",
       "</div>"
      ],
      "text/plain": [
       "         X1        X2        X3         Y\n",
       "0  0.000000  3.440000  0.440000  4.387545\n",
       "1  0.040404  0.134949  0.888485  2.679650\n",
       "2  0.080808  0.829899  1.336970  2.968490\n",
       "3  0.121212  1.524848  1.785455  3.254065\n",
       "4  0.161616  2.219798  2.233939  3.536375\n",
       "5  0.202020  2.914747  2.682424  3.815420\n",
       "6  0.242424  3.609697  3.130909  4.091200\n",
       "7  0.282828  0.304646  3.579394  2.363715\n",
       "8  0.323232  0.999596  0.027879  3.832965\n",
       "9  0.363636  1.694545  0.476364  4.098950"
      ]
     },
     "execution_count": 146,
     "metadata": {},
     "output_type": "execute_result"
    }
   ],
   "source": [
    "# First 3 Columns are independent variables x1, x2, and x3. 4th Column is the dependent variable y\n",
    "df.head(10)"
   ]
  },
  {
   "cell_type": "code",
   "execution_count": 147,
   "id": "a9f1f296",
   "metadata": {},
   "outputs": [
    {
     "data": {
      "text/plain": [
       "100"
      ]
     },
     "execution_count": 147,
     "metadata": {},
     "output_type": "execute_result"
    }
   ],
   "source": [
    "len(df)"
   ]
  },
  {
   "cell_type": "code",
   "execution_count": 148,
   "id": "bddc9694",
   "metadata": {},
   "outputs": [
    {
     "data": {
      "text/plain": [
       "(100, 100, 100, 100)"
      ]
     },
     "execution_count": 148,
     "metadata": {},
     "output_type": "execute_result"
    }
   ],
   "source": [
    "# Getting 1st Explanatory Independent Variables X1, X2, & X3\n",
    "X1 = df.values[:,0]\n",
    "X2 = df.values[:,1]\n",
    "X3 = df.values[:,2]\n",
    "\n",
    "# Getting Dependent Variable Y\n",
    "Y = df.values[:,3]\n",
    "len(X1), len(X2), len(X3), len(Y)"
   ]
  },
  {
   "cell_type": "code",
   "execution_count": 153,
   "id": "129ddda6",
   "metadata": {},
   "outputs": [
    {
     "name": "stdout",
     "output_type": "stream",
     "text": [
      "X1 =  [0.         0.04040404 0.08080808 0.12121212 0.16161616]\n",
      "X2 =  [3.44       0.1349495  0.82989899 1.52484848 2.21979798]\n",
      "X3 =  [0.44       0.88848485 1.3369697  1.78545454 2.23393939]\n",
      "Y =  [4.38754501 2.6796499  2.96848981 3.25406475 3.53637472]\n"
     ]
    }
   ],
   "source": [
    "# Showing only first 5 records for X1, X2, X3 and y\n",
    "print(\"X1 = \", X1[: 5])\n",
    "print(\"X2 = \", X2[: 5])\n",
    "print(\"X3 = \", X3[: 5])\n",
    "print(\"Y = \", Y[: 5]) "
   ]
  },
  {
   "cell_type": "code",
   "execution_count": 154,
   "id": "bde0a651",
   "metadata": {},
   "outputs": [
    {
     "name": "stdout",
     "output_type": "stream",
     "text": [
      "X_of_1 =  [[0.        ]\n",
      " [0.04040404]\n",
      " [0.08080808]\n",
      " [0.12121212]\n",
      " [0.16161616]\n",
      " [0.2020202 ]\n",
      " [0.24242424]\n",
      " [0.28282828]\n",
      " [0.32323232]\n",
      " [0.36363636]]\n",
      "X_of_2 =  [[3.44      ]\n",
      " [0.1349495 ]\n",
      " [0.82989899]\n",
      " [1.52484848]\n",
      " [2.21979798]\n",
      " [2.91474747]\n",
      " [3.60969697]\n",
      " [0.30464646]\n",
      " [0.99959596]\n",
      " [1.69454546]]\n",
      "X_of_3 =  [[0.44      ]\n",
      " [0.88848485]\n",
      " [1.3369697 ]\n",
      " [1.78545454]\n",
      " [2.23393939]\n",
      " [2.68242424]\n",
      " [3.13090909]\n",
      " [3.57939394]\n",
      " [0.02787879]\n",
      " [0.47636364]]\n"
     ]
    }
   ],
   "source": [
    "# Conversion of X (1D Array) to 2D array using the reshape function\n",
    "m = len(X1)\n",
    "X_of_1 = X1.reshape(m,1)\n",
    "X_of_2 = X2.reshape(m,1)\n",
    "X_of_3 = X3.reshape(m,1)\n",
    "\n",
    "print(\"X_of_1 = \", X_of_1[:10])\n",
    "print(\"X_of_2 = \", X_of_2[:10])\n",
    "print(\"X_of_3 = \", X_of_3[:10])"
   ]
  },
  {
   "cell_type": "code",
   "execution_count": 155,
   "id": "d908c949",
   "metadata": {},
   "outputs": [
    {
     "data": {
      "text/plain": [
       "(array([[1.],\n",
       "        [1.],\n",
       "        [1.],\n",
       "        [1.],\n",
       "        [1.]]),\n",
       " 100)"
      ]
     },
     "execution_count": 155,
     "metadata": {},
     "output_type": "execute_result"
    }
   ],
   "source": [
    "# Creation of a matrix with a single column of '1s'\n",
    "X_0 = np.ones((m,1))\n",
    "X_0[:5], len(X_0)"
   ]
  },
  {
   "cell_type": "code",
   "execution_count": 156,
   "id": "b03e935e",
   "metadata": {},
   "outputs": [
    {
     "name": "stdout",
     "output_type": "stream",
     "text": [
      "[[1.         0.         3.44       0.44      ]\n",
      " [1.         0.04040404 0.1349495  0.88848485]\n",
      " [1.         0.08080808 0.82989899 1.3369697 ]\n",
      " [1.         0.12121212 1.52484848 1.78545454]\n",
      " [1.         0.16161616 2.21979798 2.23393939]]\n"
     ]
    }
   ],
   "source": [
    "# Stack X_of_0, X_of_1, X_of_2, and X_of_3  horizontally using the hstack function\n",
    "X = np.hstack((X_0, X_of_1, X_of_2, X_of_3))\n",
    "\n",
    "print(X[:5])"
   ]
  },
  {
   "cell_type": "code",
   "execution_count": 157,
   "id": "0ac534dd",
   "metadata": {},
   "outputs": [
    {
     "data": {
      "text/plain": [
       "array([0., 0., 0., 0.])"
      ]
     },
     "execution_count": 157,
     "metadata": {},
     "output_type": "execute_result"
    }
   ],
   "source": [
    "theta = np.zeros(4)\n",
    "theta"
   ]
  },
  {
   "cell_type": "code",
   "execution_count": 158,
   "id": "9af5218b",
   "metadata": {},
   "outputs": [],
   "source": [
    "def compute_loss(X,Y,theta):\n",
    "    \n",
    "    predictions = X.dot(theta)\n",
    "    errors = np.subtract(predictions, Y)\n",
    "    sqrErrors = np.square(errors)\n",
    "    J = 1/(2 * m) * np.sum(sqrErrors)\n",
    "    \n",
    "    return J"
   ]
  },
  {
   "cell_type": "code",
   "execution_count": 159,
   "id": "71b635f5",
   "metadata": {},
   "outputs": [
    {
     "name": "stdout",
     "output_type": "stream",
     "text": [
      "The loss =  5.524438459196242\n"
     ]
    }
   ],
   "source": [
    "# Computation of the loss for theta values\n",
    "loss = compute_loss(X,Y,theta)\n",
    "\n",
    "\n",
    "print(\"The loss = \", loss)"
   ]
  },
  {
   "cell_type": "code",
   "execution_count": 160,
   "id": "f3c38fad",
   "metadata": {},
   "outputs": [],
   "source": [
    "def gradient_descent(X,Y,theta,alpha,iterations):\n",
    "   loss_history = np.zeros(iterations)\n",
    "\n",
    "   for i in range(iterations):\n",
    "        predictions = X.dot(theta)\n",
    "        errors = np.subtract(predictions,Y)\n",
    "        sum_delta = (alpha / m) * X.transpose().dot(errors);\n",
    "        theta = theta - sum_delta;\n",
    "        loss_history[i] = compute_loss(X,Y,theta)\n",
    "        \n",
    "   return theta, loss_history"
   ]
  },
  {
   "cell_type": "code",
   "execution_count": 161,
   "id": "098f70a5",
   "metadata": {},
   "outputs": [],
   "source": [
    "theta = [0., 0., 0., 0.]\n",
    "iterations = 2000\n",
    "alpha = 0.05"
   ]
  },
  {
   "cell_type": "code",
   "execution_count": 162,
   "id": "3d3e6891",
   "metadata": {},
   "outputs": [
    {
     "name": "stdout",
     "output_type": "stream",
     "text": [
      "Final value of theta =  [ 5.31392989 -2.00368575  0.53260255 -0.26556708]\n",
      "loss_history =  [4.35632837 3.99754934 3.73994659 ... 0.73846424 0.73846424 0.73846424]\n"
     ]
    }
   ],
   "source": [
    "theta, loss_history = gradient_descent(X,Y,theta, alpha, iterations)\n",
    "\n",
    "print(\"Final value of theta = \", theta);\n",
    "print(\"loss_history = \", loss_history);"
   ]
  },
  {
   "cell_type": "code",
   "execution_count": 163,
   "id": "2f1ac55a",
   "metadata": {},
   "outputs": [
    {
     "data": {
      "image/png": "[encoded data removed]",
      "text/plain": [
       "<Figure size 1000x600 with 1 Axes>"
      ]
     },
     "metadata": {},
     "output_type": "display_data"
    }
   ],
   "source": [
    "plt.scatter(X[:,1], Y, color = \"blue\", marker = \"+\", label = \"Training Data\")\n",
    "plt.plot(X[:,1],X.dot(theta), color = \"red\", label = \"Linear Regression\" )\n",
    "plt.rcParams[\"figure.figsize\"] = (10,6)\n",
    "plt.grid()\n",
    "plt.xlabel(\"Independent Variable X1, X2, & X3 \");\n",
    "plt.ylabel(\"Dependent Variable Y\");\n",
    "plt.title(\"Linear Regression for X1, X2, & X3\");\n",
    "plt.legend();"
   ]
  },
  {
   "cell_type": "code",
   "execution_count": 164,
   "id": "4978c106",
   "metadata": {},
   "outputs": [
    {
     "data": {
      "image/png": "[encoded data removed]",
      "text/plain": [
       "<Figure size 1000x600 with 1 Axes>"
      ]
     },
     "metadata": {},
     "output_type": "display_data"
    }
   ],
   "source": [
    "plt.plot(range(1, iterations + 1), loss_history, color = \"blue\")\n",
    "plt.rcParams[\"figure.figsize\"] = (10,6)\n",
    "plt.grid()\n",
    "plt.xlabel(\"Number of Iterations\");\n",
    "plt.ylabel(\"Loss for Y with X1, X2, & X3\");\n",
    "plt.title(\"Convergence of Gradient Descent of X1, X2, & X3\");"
   ]
  },
  {
   "cell_type": "code",
   "execution_count": 165,
   "id": "b89bb428",
   "metadata": {},
   "outputs": [
    {
     "data": {
      "text/plain": [
       "3.5772796020480597"
      ]
     },
     "execution_count": 165,
     "metadata": {},
     "output_type": "execute_result"
    }
   ],
   "source": [
    "prediction = theta[0] + 1*theta[1] + 1*theta[2] + 1*theta[3]\n",
    "prediction"
   ]
  },
  {
   "cell_type": "code",
   "execution_count": 166,
   "id": "53f9452c",
   "metadata": {},
   "outputs": [
    {
     "data": {
      "text/plain": [
       "0.24429005364325773"
      ]
     },
     "execution_count": 166,
     "metadata": {},
     "output_type": "execute_result"
    }
   ],
   "source": [
    "prediction = theta[0] + 2*theta[1] + 0*theta[2] + 4*theta[3]\n",
    "prediction"
   ]
  },
  {
   "cell_type": "code",
   "execution_count": 167,
   "id": "45b26128",
   "metadata": {},
   "outputs": [
    {
     "data": {
      "text/plain": [
       "0.10251065033649731"
      ]
     },
     "execution_count": 167,
     "metadata": {},
     "output_type": "execute_result"
    }
   ],
   "source": [
    "prediction = theta[0] + 3*theta[1] + 2*theta[2] + 1*theta[3]\n",
    "prediction"
   ]
  },
  {
   "cell_type": "code",
   "execution_count": null,
   "id": "7feb71a6",
   "metadata": {},
   "outputs": [],
   "source": []
  }
 ],
 "metadata": {
  "kernelspec": {
   "display_name": "Python 3 (ipykernel)",
   "language": "python",
   "name": "python3"
  },
  "language_info": {
   "codemirror_mode": {
    "name": "ipython",
    "version": 3
   },
   "file_extension": ".py",
   "mimetype": "text/x-python",
   "name": "python",
   "nbconvert_exporter": "python",
   "pygments_lexer": "ipython3",
   "version": "3.10.4"
  }
 },
 "nbformat": 4,
 "nbformat_minor": 5
}
