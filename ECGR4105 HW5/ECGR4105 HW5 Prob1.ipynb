{
 "cells": [
  {
   "cell_type": "markdown",
   "id": "b5e2aea7",
   "metadata": {},
   "source": [
    "## ECGR 4105 - Homework 5"
   ]
  },
  {
   "cell_type": "markdown",
   "id": "7b9edfc7",
   "metadata": {},
   "source": [
    "## Problem 1\n",
    "\n",
    "The original Temperature Prediction model will be changed to a Non-Linear System considering the following description:\n",
    "\n",
    "w2 * t_u ** 2 + w1 * t_u + b\n",
    "\n",
    "1. The training loop will be modified to accomodate the new definition\n",
    "2. 5000 epochs will be used for the training and different learning rates from 0.1 to 0.0001 will be explored and the loss for   every 500 epochs per training will be reported.\n",
    "3. The best Non-Linear Model will be selected and the final best loss will be compared against a Linear Model."
   ]
  },
  {
   "cell_type": "code",
   "execution_count": 3,
   "id": "23e23a9f",
   "metadata": {},
   "outputs": [],
   "source": [
    "# Importing all the necessary Libraries\n",
    "import pandas as pd\n",
    "import numpy as np\n",
    "import matplotlib.pyplot as plt\n",
    "\n",
    "# Importing Pytorch and Tensorflow\n",
    "import torch\n",
    "torch.version.__version__\n",
    "import torch.optim as optim\n",
    "import torch.nn as nn\n",
    "\n",
    "from sklearn.preprocessing import MinMaxScaler, StandardScaler\n",
    "from sklearn.model_selection import train_test_split"
   ]
  },
  {
   "cell_type": "code",
   "execution_count": 4,
   "id": "dcd20faa",
   "metadata": {},
   "outputs": [],
   "source": [
    "# Function Definations\n",
    "\n",
    "# Linear Model\n",
    "def model(t_u, w, b):\n",
    "  return w * t_u + b\n",
    "\n",
    "# Loss Function\n",
    "def loss_fn(t_p, t_c):\n",
    "  squared_diffs = (t_p - t_c)**2\n",
    "  return squared_diffs.mean()\n",
    "\n",
    "def dloss_fn(t_p, t_c):\n",
    "  dsq_diffs = 2 * (t_p - t_c) / t_p.size(0)\n",
    "  return dsq_diffs\n",
    "\n",
    "def dmodel_dw(t_u, w, b):\n",
    "  return t_u\n",
    "\n",
    "def dmodel_db(t_u, w, b):\n",
    "  return 1.0\n",
    "\n",
    "def Grad_fn(t_u, t_c, t_p, w, b):\n",
    "  dloss_dtp = dloss_fn(t_p, t_c)\n",
    "  dloss_dw = dloss_dtp * dmodel_dw(t_u, w, b)\n",
    "  dloss_db = dloss_dtp * dmodel_db(t_u, w, b)\n",
    "  return torch.stack([dloss_dw.sum(), dloss_db.sum()])\n",
    " \n",
    "def training_loop(n_epochs, learning_rate, params, t_u, t_c):\n",
    "  for epoch in range(1, n_epochs + 1):\n",
    "    w, b = params\n",
    "\n",
    "    t_p = model(t_u, w, b)\n",
    "    loss = loss_fn(t_p, t_c)\n",
    "    grad = Grad_fn(t_u, t_c, t_p, w, b)\n",
    "\n",
    "    params = params - learning_rate * grad\n",
    "    if epoch % 500 == 0:\n",
    "      print(\"Epoch %d, Loss %f\" %(epoch, float(loss)))\n",
    "  return params"
   ]
  },
  {
   "cell_type": "code",
   "execution_count": 5,
   "id": "ad200a46",
   "metadata": {},
   "outputs": [],
   "source": [
    "# Getting the Input Data\n",
    "t_c = [0.5, 14.0, 15.0, 28.0, 11.0, 8.0, 3.0, -4.0, 6.0, 13.0, 21.0]\n",
    "t_u = [35.7, 55.9, 58.2, 81.9, 56.3, 48.9, 33.9, 21.8, 48.4, 60.4, 68.4]\n",
    "t_c = torch.tensor(t_c)\n",
    "t_u = torch.tensor(t_u)"
   ]
  },
  {
   "cell_type": "code",
   "execution_count": 9,
   "id": "7ef9031e",
   "metadata": {},
   "outputs": [
    {
     "name": "stdout",
     "output_type": "stream",
     "text": [
      "Epoch 500, Loss 7.860115\n",
      "Epoch 1000, Loss 3.828538\n",
      "Epoch 1500, Loss 3.092191\n",
      "Epoch 2000, Loss 2.957698\n",
      "Epoch 2500, Loss 2.933134\n",
      "Epoch 3000, Loss 2.928648\n",
      "Epoch 3500, Loss 2.927830\n",
      "Epoch 4000, Loss 2.927680\n",
      "Epoch 4500, Loss 2.927651\n",
      "Epoch 5000, Loss 2.927648\n"
     ]
    },
    {
     "data": {
      "image/png": "[encoded data removed]",
      "text/plain": [
       "<Figure size 640x480 with 1 Axes>"
      ]
     },
     "metadata": {},
     "output_type": "display_data"
    }
   ],
   "source": [
    "t_un = 0.1 * t_u\n",
    "params = training_loop(n_epochs = 5000, learning_rate = 1e-2, params = torch.tensor([1.0, 0.0]),\n",
    "                       t_u = t_un, t_c = t_c)\n",
    "\n",
    "# Plotting The Linear Model \n",
    "from matplotlib import pyplot as plt\n",
    "\n",
    "t_p = model(t_un, *params)\n",
    "\n",
    "fig = plt.figure()\n",
    "plt.xlabel(\"Temerature (Fahrenheit)\")\n",
    "plt.ylabel(\"Temerature (Celsius)\")\n",
    "plt.title(\"Linear Model\")\n",
    "plt.plot(t_u.numpy(), t_p.detach().numpy(), color = \"red\")\n",
    "plt.plot(t_u.numpy(), t_c.numpy(), '.', color = \"navy\");"
   ]
  },
  {
   "cell_type": "code",
   "execution_count": 10,
   "id": "c8cadc42",
   "metadata": {},
   "outputs": [],
   "source": [
    "# Non-Linear Model\n",
    "def model_non_lin(t_u, w1, w2, b):\n",
    "  return w2 * t_u ** 2 + w1 * t_u + b\n",
    "\n",
    "def dmodel_dw1(t_u, w1, w2, b):\n",
    "    return t_u\n",
    "\n",
    "def dmodel_dw2(t_u, w1, w2, b):\n",
    "  return t_u**2\n",
    "\n",
    "def dmodel_db_non_lin(t_u, w1, w2, b):\n",
    "    return 1.0\n",
    "\n",
    "def grad_fn_non_lin(t_u, t_c, t_p, w1, w2, b):\n",
    "  dloss_dtp = dloss_fn(t_p, t_c)\n",
    "  dloss_dw1 = dloss_dtp * dmodel_dw1(t_u, w1, w2, b)\n",
    "  dloss_dw2 = dloss_dtp * dmodel_dw2(t_u, w1, w2, b)\n",
    "  dloss_db = dloss_dtp * dmodel_db_non_lin(t_u, w1, w2, b)\n",
    "  return torch.stack([dloss_dw1.sum(), dloss_dw2.sum(), dloss_db.sum()])\n",
    "\n",
    "def training_loop_non_lin(n_epochs, learning_rate, params, t_u, t_c):\n",
    "  for epoch in range(1, n_epochs + 1):\n",
    "    w1, w2, b = params\n",
    "\n",
    "    t_p = model_non_lin(t_u, w1, w2, b)\n",
    "    loss = loss_fn(t_p, t_c)\n",
    "    grad = grad_fn_non_lin(t_u, t_c, t_p, w1, w2, b)\n",
    "    params = params - learning_rate * grad\n",
    "    \n",
    "    if epoch % 500 == 0:\n",
    "      print(\"Epoch %d, Loss %f\" %(epoch, float(loss)))\n",
    "  return params"
   ]
  },
  {
   "cell_type": "code",
   "execution_count": 8,
   "id": "8da9b30d",
   "metadata": {},
   "outputs": [
    {
     "name": "stdout",
     "output_type": "stream",
     "text": [
      "Epoch 500, Loss 10.708597\n",
      "Epoch 1000, Loss 8.642083\n",
      "Epoch 1500, Loss 7.171005\n",
      "Epoch 2000, Loss 6.123476\n",
      "Epoch 2500, Loss 5.377228\n",
      "Epoch 3000, Loss 4.845286\n",
      "Epoch 3500, Loss 4.465787\n",
      "Epoch 4000, Loss 4.194724\n",
      "Epoch 4500, Loss 4.000802\n",
      "Epoch 5000, Loss 3.861744\n"
     ]
    },
    {
     "data": {
      "image/png": "[encoded data removed]",
      "text/plain": [
       "<Figure size 640x480 with 1 Axes>"
      ]
     },
     "metadata": {},
     "output_type": "display_data"
    }
   ],
   "source": [
    "t_c = [0.5, 14.0, 15.0, 28.0, 11.0, 8.0, 3.0, -4.0, 6.0, 13.0, 21.0]\n",
    "t_u = [35.7, 55.9, 58.2, 81.9, 56.3, 48.9, 33.9, 21.8, 48.4, 60.4, 68.4]\n",
    "t_c = torch.tensor(t_c)\n",
    "t_u = torch.tensor(t_u)\n",
    "\n",
    "t_un = 0.1 * t_u\n",
    "params = training_loop_non_lin(n_epochs = 5000, learning_rate = 1e-4, params = torch.tensor([1.0, 1.0, 0.0]),\n",
    "                               t_u = t_un, t_c = t_c)\n",
    "\n",
    "# Plotting the Non-Linear Model\n",
    "from matplotlib import pyplot as plt\n",
    "t_p = model_non_lin(t_un, *params)\n",
    "\n",
    "fig = plt.figure()\n",
    "plt.xlabel(\"Temerature F\")\n",
    "plt.ylabel(\"Temerature C\")\n",
    "plt.title(\"Non-Linear Model\")\n",
    "plt.plot(np.sort(t_u.numpy()), np.sort(t_p.detach().numpy()), color = \"r\")\n",
    "plt.plot(t_u.numpy(), t_c.numpy(), '.', color = \"navy\");"
   ]
  },
  {
   "cell_type": "markdown",
   "id": "fee6194c",
   "metadata": {},
   "source": [
    "## Problem 2\n",
    "\n",
    "A Preprocessing and a Training Loop to train a Linear Regression Model that predicts Housing Price based on the following Input Variables will be developed:\n",
    "\n",
    "area, bedroom, bathrooms, stories, parking\n",
    "\n",
    "For this problem, the \"housing.csv\" dataset will be used. For training and validation, 80% and 20% split will be used. The best parameters for the Linear Regression model will be identified and in this case, there will be 6 parameters:\n",
    "\n",
    "U = (W5 * X5) + (W4 * X4) + (W3 * X3) + (W2 * X2) + (W1 * X1) + B\n",
    "\n",
    "5000 epochs will be used for the training and different learning rates from 0.1 to 0.0001 will be explored and the loss for every 500 epochs per training will be reported."
   ]
  },
  {
   "cell_type": "code",
   "execution_count": 103,
   "id": "65006b0f",
   "metadata": {},
   "outputs": [],
   "source": [
    "# Importing the \"Housing.csv\" Dataset for Problem 2\n",
    "housing = pd.DataFrame(pd.read_csv(\"Housing.csv\")) \n",
    "\n",
    "num_vars = ['area', 'bedrooms', 'bathrooms', 'stories', 'parking','price'] \n",
    "New_train = housing[num_vars]\n",
    "X = New_train.pop('price').to_numpy(np.float64)\n",
    "Y = New_train.to_numpy(np.float64)"
   ]
  },
  {
   "cell_type": "code",
   "execution_count": 107,
   "id": "ee51ed3d",
   "metadata": {},
   "outputs": [],
   "source": [
    "# Model and functions for training of Housing dataset\n",
    "def model_house(x, w, b):\n",
    "  return np.matmul(x, w) + b\n",
    "\n",
    "def dmodel_dw1_house(x, w, b):\n",
    "  return x[:,0]\n",
    "def dmodel_dw2_house(x, w, b):\n",
    "  return x[:,1]\n",
    "def dmodel_dw3_house(x, w, b):\n",
    "  return x[:,2]\n",
    "def dmodel_dw4_house(x, w, b):\n",
    "  return x[:,3]\n",
    "def dmodel_dw5_house(x, w, b):\n",
    "  return x[:,4]\n",
    "\n",
    "def dmodel_db_house(x, w, b):\n",
    "  return 1.0\n",
    "\n",
    "def grad_fn_house(x, y, pred, w, b):\n",
    "  dloss_dtp = dloss_fn(pred, y)\n",
    "  dloss_dw1 = dloss_dtp * dmodel_dw1_house(x, w, b)\n",
    "  dloss_dw2 = dloss_dtp * dmodel_dw2_house(x, w, b)\n",
    "  dloss_dw3 = dloss_dtp * dmodel_dw3_house(x, w, b)\n",
    "  dloss_dw4 = dloss_dtp * dmodel_dw4_house(x, w, b)\n",
    "  dloss_dw5 = dloss_dtp * dmodel_dw5_house(x, w, b)\n",
    "  dloss_db = dloss_dtp * dmodel_db_house(x, w, b)\n",
    "  return torch.stack([dloss_dw1.sum(), dloss_dw2.sum(), dloss_dw3.sum(), dloss_dw4.sum(), dloss_dw5.sum(), dloss_db.sum()])\n",
    " \n",
    "def training_loop_house(n_epochs, learning_rate, params, x, y):\n",
    "  for epoch in range(1, n_epochs + 1):\n",
    "    b = params[-1]\n",
    "    w = params[:-1]\n",
    "    \n",
    "    pred = model_house(x, w, b)\n",
    "    loss = loss_fn(pred, y)\n",
    "    grad = grad_fn_house(x, y, pred, w, b)\n",
    "    #print(params, grad)\n",
    "    #input()\n",
    "    params = params - learning_rate * grad\n",
    "    if epoch % 500 == 0:\n",
    "      print(\"Epoch %d, Loss %f\" %(epoch, float(loss)))\n",
    "  return params"
   ]
  },
  {
   "cell_type": "code",
   "execution_count": 108,
   "id": "8c6949a4",
   "metadata": {},
   "outputs": [
    {
     "name": "stdout",
     "output_type": "stream",
     "text": [
      "Epoch 500, Loss 2024805783902.583984\n",
      "Epoch 1000, Loss 1863258466727.914307\n",
      "Epoch 1500, Loss 1768051362590.842285\n",
      "Epoch 2000, Loss 1704595000950.190430\n",
      "Epoch 2500, Loss 1659789065346.188721\n",
      "Epoch 3000, Loss 1627244053690.387207\n",
      "Epoch 3500, Loss 1603242094079.036621\n",
      "Epoch 4000, Loss 1585383250941.523193\n",
      "Epoch 4500, Loss 1572022959620.682617\n",
      "Epoch 5000, Loss 1561993317652.091797\n",
      "tensor(7528113.7117, dtype=torch.float64)\n",
      "tensor(13300000., dtype=torch.float64)\n"
     ]
    },
    {
     "data": {
      "image/png": "[encoded data removed]",
      "text/plain": [
       "<Figure size 640x480 with 1 Axes>"
      ]
     },
     "metadata": {},
     "output_type": "display_data"
    }
   ],
   "source": [
    "max_x = np.amax(x, axis=0)\n",
    "max_y = np.amax(y)\n",
    "\n",
    "new_x = x\n",
    "new_y = y \n",
    "\n",
    "# Normalizing all the Parameters\n",
    "new_x[:,0] = x[:,0]/max_x[0]\n",
    "new_x[:,1] = x[:,1]/max_x[1]\n",
    "new_x[:,2] = x[:,2]/max_x[2]\n",
    "new_x[:,3] = x[:,3]/max_x[3]\n",
    "new_x[:,4] = x[:,4]/max_x[4]\n",
    "\n",
    "new_x = torch.tensor(new_x)\n",
    "new_y = torch.tensor(new_y)\n",
    "\n",
    "# train model\n",
    "params = training_loop_house(n_epochs = 5000, learning_rate = 1e-2, params = torch.tensor([1.0, 1.0, 1.0, 1.0, 1.0, 0.0]),\n",
    "                             x = new_x, y = new_y)\n",
    "\n",
    "# Plotting the Datapoints and the Paramters\n",
    "from matplotlib import pyplot as plt\n",
    "\n",
    "pred = model_house(new_x, params[:-1], params[-1])\n",
    "print(pred[0])\n",
    "print(new_y[0])\n",
    "fig = plt.figure()\n",
    "plt.xlabel(\"Sample\")\n",
    "plt.ylabel(\"Cost\")\n",
    "plt.ylim([np.amin(y) * .95, np.amax(y) * 1.05])\n",
    "plt.plot(pred.detach().numpy(), '.', label = \"Predicted\", color = \"navy\")\n",
    "plt.plot(new_y.numpy(), '.', label = \"Actual Cost\", color = \"salmon\")\n",
    "plt.legend();"
   ]
  },
  {
   "cell_type": "code",
   "execution_count": 66,
   "id": "63a709ba",
   "metadata": {},
   "outputs": [
    {
     "name": "stdout",
     "output_type": "stream",
     "text": [
      "Epoch 500, Loss 1562038499136.447754\n",
      "Epoch 1000, Loss 1533011436311.196289\n",
      "Epoch 1500, Loss 1531161953474.365967\n",
      "Epoch 2000, Loss 1531023620738.500000\n",
      "Epoch 2500, Loss 1531010431223.014648\n",
      "Epoch 3000, Loss 1531008830650.815186\n",
      "Epoch 3500, Loss 1531008603760.256592\n",
      "Epoch 4000, Loss 1531008569139.817139\n",
      "Epoch 4500, Loss 1531008563697.867432\n",
      "Epoch 5000, Loss 1531008562832.778076\n"
     ]
    }
   ],
   "source": [
    "# Training the Model\n",
    "params = training_loop_house(\n",
    "n_epochs = 5000,\n",
    "learning_rate = 1e-1,\n",
    "params = torch.tensor([1.0, 1.0, 1.0, 1.0, 1.0, 0.0]),\n",
    "x = new_x,\n",
    "y = new_y)"
   ]
  },
  {
   "cell_type": "code",
   "execution_count": 67,
   "id": "12dfe312",
   "metadata": {},
   "outputs": [
    {
     "name": "stdout",
     "output_type": "stream",
     "text": [
      "Epoch 500, Loss 3072062726282.625000\n",
      "Epoch 1000, Loss 2296907167134.038574\n",
      "Epoch 1500, Loss 2232371360543.121582\n",
      "Epoch 2000, Loss 2193782354830.532227\n",
      "Epoch 2500, Loss 2159229566168.539551\n",
      "Epoch 3000, Loss 2127641802634.025635\n",
      "Epoch 3500, Loss 2098653066954.163330\n",
      "Epoch 4000, Loss 2071963969776.394531\n",
      "Epoch 4500, Loss 2047315431531.889160\n",
      "Epoch 5000, Loss 2024482486682.451904\n"
     ]
    }
   ],
   "source": [
    "# Training the Model\n",
    "params = training_loop_house(\n",
    "n_epochs = 5000,\n",
    "learning_rate = 1e-3,\n",
    "params = torch.tensor([1.0, 1.0, 1.0, 1.0, 1.0, 0.0]),\n",
    "x = new_x,\n",
    "y = new_y)"
   ]
  },
  {
   "cell_type": "code",
   "execution_count": 68,
   "id": "3f57de38",
   "metadata": {},
   "outputs": [
    {
     "name": "stdout",
     "output_type": "stream",
     "text": [
      "Epoch 500, Loss 19251112139782.328125\n",
      "Epoch 1000, Loss 14310293891420.976562\n",
      "Epoch 1500, Loss 10812095187644.593750\n",
      "Epoch 2000, Loss 8334880776716.513672\n",
      "Epoch 2500, Loss 6580251272419.132812\n",
      "Epoch 3000, Loss 5337023626161.937500\n",
      "Epoch 3500, Loss 4455739431133.308594\n",
      "Epoch 4000, Loss 3830623970746.783203\n",
      "Epoch 4500, Loss 3386818298639.674316\n",
      "Epoch 5000, Loss 3071343142051.184570\n"
     ]
    }
   ],
   "source": [
    "# Training the Model\n",
    "params = training_loop_house(\n",
    "n_epochs = 5000,\n",
    "learning_rate = 1e-4,\n",
    "params = torch.tensor([1.0, 1.0, 1.0, 1.0, 1.0, 0.0]),\n",
    "x = new_x,\n",
    "y = new_y)"
   ]
  },
  {
   "cell_type": "markdown",
   "id": "c2ef7662",
   "metadata": {},
   "source": [
    "## Problem 3\n",
    "\n",
    "A fully connected Neural Network will be built for the \"Housing.csv\" Dataset. For training and validation, 80% and 20% split will be used. For this part, only one hidden layer with 8 nodes will be used. The Network will be trained for 200 epochs. The training time, training loss, and evaluation accuracy after 200 epochs will be reported. \n",
    "\n",
    "The Network, built in the previous part, will be extended with two more additional hidden layers.The Network will be trained for 200 epochs.The training time, training loss, and evaluation accuracy after 200 epochs will be reported."
   ]
  },
  {
   "cell_type": "code",
   "execution_count": 76,
   "id": "8aa0ed62",
   "metadata": {},
   "outputs": [],
   "source": [
    "num_vars = [\"area\", \"bedrooms\", \"bathrooms\", \"stories\", \"mainroad\", \"guestroom\", \"basement\", \"hotwaterheating\", \"airconditioning\", \"parking\", \"prefarea\", \"price\"]\n",
    "\n",
    "varList = ['mainroad','guestroom','basement','hotwaterheating','airconditioning', 'prefarea']\n",
    "\n",
    "# Applying the Binary Mapping Technique (Converting Yes or No to either 1 or 0)\n",
    "def binary_map(x):\n",
    "    return x.map({'yes':1,\"no\":0})\n",
    "\n",
    "housing[varList] = housing[varList].apply(binary_map)"
   ]
  },
  {
   "cell_type": "code",
   "execution_count": 70,
   "id": "215f5d05",
   "metadata": {},
   "outputs": [],
   "source": [
    "# Code Snippet to Ignore and get rid of the Warnings\n",
    "import warnings\n",
    "warnings.filterwarnings(\"ignore\")"
   ]
  },
  {
   "cell_type": "code",
   "execution_count": 71,
   "id": "c6964a13",
   "metadata": {},
   "outputs": [
    {
     "name": "stdout",
     "output_type": "stream",
     "text": [
      "torch.Size([109, 1])\n"
     ]
    }
   ],
   "source": [
    "# splitting the data\n",
    "scaler = StandardScaler()\n",
    "np.random.seed(0)\n",
    "df_train, df_test = train_test_split(housing, train_size = 0.8, test_size = 0.2, random_state = np.random)\n",
    "\n",
    "df_Newtrain = df_train[num_vars]\n",
    "df_Newtest = df_test[num_vars]\n",
    "\n",
    "# scaling the data\n",
    "df_Newtrain[num_vars] = scaler.fit_transform(df_Newtrain[num_vars])\n",
    "df_Newtest[num_vars] = scaler.fit_transform(df_Newtest[num_vars])\n",
    "\n",
    "y_Newtrain = df_Newtrain.pop('price')\n",
    "x_Newtrain = df_Newtrain\n",
    "y_Newtest = df_Newtest.pop('price')\n",
    "x_Newtest = df_Newtest\n",
    "\n",
    "# convert the data to tensors\n",
    "x_train = torch.tensor(x_Newtrain.values).float()\n",
    "x_val = torch.tensor(x_Newtest.values).float()\n",
    "y_train = torch.tensor(y_Newtrain.values).float().unsqueeze(-1)\n",
    "y_val = torch.tensor(y_Newtest.values).float().unsqueeze(-1)\n",
    "print(y_val.size())"
   ]
  },
  {
   "cell_type": "code",
   "execution_count": 72,
   "id": "0912b621",
   "metadata": {},
   "outputs": [],
   "source": [
    "def training_loop(n_epochs, optimizer, model, loss_fn, x_train, x_val, y_train, y_val):\n",
    "    for epoch in range(1, n_epochs + 1):\n",
    "        p_train = model(x_train) \n",
    "        loss_train = loss_fn(p_train, y_train)\n",
    "\n",
    "        p_val = model(x_val) \n",
    "        loss_val = loss_fn(p_val, y_val)\n",
    "        \n",
    "        optimizer.zero_grad()\n",
    "        loss_train.backward() \n",
    "        optimizer.step()\n",
    "\n",
    "        if epoch == 1 or epoch % 10 == 0:\n",
    "            print(f\"Epoch {epoch}, Training loss {loss_train.item():.4f},\"\n",
    "                  f\" Validation loss {loss_val.item():.4f}\")"
   ]
  },
  {
   "cell_type": "code",
   "execution_count": 73,
   "id": "1b52ab2d",
   "metadata": {},
   "outputs": [
    {
     "name": "stdout",
     "output_type": "stream",
     "text": [
      "Epoch 1, Training loss 1.1249, Validation loss 1.0902\n",
      "Epoch 10, Training loss 1.0952, Validation loss 1.0638\n",
      "Epoch 20, Training loss 1.0638, Validation loss 1.0358\n",
      "Epoch 30, Training loss 1.0339, Validation loss 1.0092\n",
      "Epoch 40, Training loss 1.0056, Validation loss 0.9838\n",
      "Epoch 50, Training loss 0.9786, Validation loss 0.9597\n",
      "Epoch 60, Training loss 0.9529, Validation loss 0.9366\n",
      "Epoch 70, Training loss 0.9285, Validation loss 0.9147\n",
      "Epoch 80, Training loss 0.9052, Validation loss 0.8937\n",
      "Epoch 90, Training loss 0.8830, Validation loss 0.8737\n",
      "Epoch 100, Training loss 0.8619, Validation loss 0.8546\n",
      "Epoch 110, Training loss 0.8417, Validation loss 0.8363\n",
      "Epoch 120, Training loss 0.8224, Validation loss 0.8188\n",
      "Epoch 130, Training loss 0.8040, Validation loss 0.8021\n",
      "Epoch 140, Training loss 0.7865, Validation loss 0.7861\n",
      "Epoch 150, Training loss 0.7697, Validation loss 0.7708\n",
      "Epoch 160, Training loss 0.7537, Validation loss 0.7561\n",
      "Epoch 170, Training loss 0.7384, Validation loss 0.7421\n",
      "Epoch 180, Training loss 0.7238, Validation loss 0.7286\n",
      "Epoch 190, Training loss 0.7099, Validation loss 0.7157\n",
      "Epoch 200, Training loss 0.6965, Validation loss 0.7033\n"
     ]
    }
   ],
   "source": [
    "seq_model = nn.Sequential(\n",
    "            nn.Linear(len(num_vars)-1, 8),\n",
    "            nn.Tanh(),\n",
    "            nn.Linear(8, 1))\n",
    "\n",
    "optimizer = optim.SGD(seq_model.parameters(), lr=1e-3)\n",
    "\n",
    "training_loop(n_epochs = 200, optimizer = optimizer, model = seq_model, loss_fn = nn.MSELoss(), \n",
    "              x_train = x_train, x_val = x_val, y_train = y_train, y_val = y_val)"
   ]
  },
  {
   "cell_type": "code",
   "execution_count": 80,
   "id": "8fdaafd1",
   "metadata": {},
   "outputs": [
    {
     "name": "stdout",
     "output_type": "stream",
     "text": [
      "Epoch 1, Training loss 1.0951, Validation loss 1.0998\n",
      "Epoch 10, Training loss 1.0908, Validation loss 1.0955\n",
      "Epoch 20, Training loss 1.0861, Validation loss 1.0910\n",
      "Epoch 30, Training loss 1.0817, Validation loss 1.0867\n",
      "Epoch 40, Training loss 1.0775, Validation loss 1.0826\n",
      "Epoch 50, Training loss 1.0735, Validation loss 1.0786\n",
      "Epoch 60, Training loss 1.0696, Validation loss 1.0749\n",
      "Epoch 70, Training loss 1.0659, Validation loss 1.0713\n",
      "Epoch 80, Training loss 1.0624, Validation loss 1.0679\n",
      "Epoch 90, Training loss 1.0591, Validation loss 1.0647\n",
      "Epoch 100, Training loss 1.0558, Validation loss 1.0616\n",
      "Epoch 110, Training loss 1.0527, Validation loss 1.0586\n",
      "Epoch 120, Training loss 1.0498, Validation loss 1.0557\n",
      "Epoch 130, Training loss 1.0470, Validation loss 1.0530\n",
      "Epoch 140, Training loss 1.0442, Validation loss 1.0504\n",
      "Epoch 150, Training loss 1.0416, Validation loss 1.0479\n",
      "Epoch 160, Training loss 1.0391, Validation loss 1.0455\n",
      "Epoch 170, Training loss 1.0367, Validation loss 1.0431\n",
      "Epoch 180, Training loss 1.0344, Validation loss 1.0409\n",
      "Epoch 190, Training loss 1.0321, Validation loss 1.0388\n",
      "Epoch 200, Training loss 1.0300, Validation loss 1.0367\n"
     ]
    }
   ],
   "source": [
    "seq_model_2 = nn.Sequential(nn.Linear(len(num_vars)-1, 8), nn.Tanh(), \n",
    "                            nn.Linear(8, 6), nn.Tanh(), \n",
    "                            nn.Linear(6, 4), nn.Tanh(), nn.Linear(4, 1))\n",
    "\n",
    "optimizer = optim.SGD(seq_model_2.parameters(), lr=1e-3)\n",
    "\n",
    "training_loop(n_epochs = 200, optimizer = optimizer, model = seq_model_2, loss_fn = nn.MSELoss(),\n",
    "              x_train = x_train ,x_val = x_val, y_train = y_train, y_val = y_val)"
   ]
  },
  {
   "cell_type": "code",
   "execution_count": null,
   "id": "45a09cc8",
   "metadata": {},
   "outputs": [],
   "source": []
  }
 ],
 "metadata": {
  "kernelspec": {
   "display_name": "Python 3 (ipykernel)",
   "language": "python",
   "name": "python3"
  },
  "language_info": {
   "codemirror_mode": {
    "name": "ipython",
    "version": 3
   },
   "file_extension": ".py",
   "mimetype": "text/x-python",
   "name": "python",
   "nbconvert_exporter": "python",
   "pygments_lexer": "ipython3",
   "version": "3.10.4"
  }
 },
 "nbformat": 4,
 "nbformat_minor": 5
}
